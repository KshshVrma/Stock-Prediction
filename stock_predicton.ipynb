{
  "nbformat": 4,
  "nbformat_minor": 0,
  "metadata": {
    "colab": {
      "provenance": []
    },
    "kernelspec": {
      "name": "python3",
      "display_name": "Python 3"
    },
    "language_info": {
      "name": "python"
    }
  },
  "cells": [
    {
      "cell_type": "code",
      "execution_count": 5,
      "metadata": {
        "colab": {
          "base_uri": "https://localhost:8080/",
          "height": 235
        },
        "id": "kkTYB_r9F6Zr",
        "outputId": "30009bbe-c2b3-49ab-9a63-b771e362d271"
      },
      "outputs": [
        {
          "output_type": "error",
          "ename": "NameError",
          "evalue": "ignored",
          "traceback": [
            "\u001b[0;31m---------------------------------------------------------------------------\u001b[0m",
            "\u001b[0;31mNameError\u001b[0m                                 Traceback (most recent call last)",
            "\u001b[0;32m<ipython-input-5-ddc0bc00062f>\u001b[0m in \u001b[0;36m<cell line: 1>\u001b[0;34m()\u001b[0m\n\u001b[0;32m----> 1\u001b[0;31m \u001b[0;32mif\u001b[0m \u001b[0mos\u001b[0m\u001b[0;34m.\u001b[0m\u001b[0mpath\u001b[0m\u001b[0;34m.\u001b[0m\u001b[0mexists\u001b[0m\u001b[0;34m(\u001b[0m\u001b[0;34m\"sp500.csv\"\u001b[0m\u001b[0;34m)\u001b[0m\u001b[0;34m:\u001b[0m\u001b[0;34m\u001b[0m\u001b[0;34m\u001b[0m\u001b[0m\n\u001b[0m\u001b[1;32m      2\u001b[0m     \u001b[0msp500\u001b[0m \u001b[0;34m=\u001b[0m \u001b[0mpd\u001b[0m\u001b[0;34m.\u001b[0m\u001b[0mread_csv\u001b[0m\u001b[0;34m(\u001b[0m\u001b[0;34m\"sp500.csv\"\u001b[0m\u001b[0;34m,\u001b[0m \u001b[0mindex_col\u001b[0m\u001b[0;34m=\u001b[0m\u001b[0;36m0\u001b[0m\u001b[0;34m)\u001b[0m\u001b[0;34m\u001b[0m\u001b[0;34m\u001b[0m\u001b[0m\n\u001b[1;32m      3\u001b[0m \u001b[0;32melse\u001b[0m\u001b[0;34m:\u001b[0m\u001b[0;34m\u001b[0m\u001b[0;34m\u001b[0m\u001b[0m\n\u001b[1;32m      4\u001b[0m     \u001b[0msp500\u001b[0m \u001b[0;34m=\u001b[0m \u001b[0myf\u001b[0m\u001b[0;34m.\u001b[0m\u001b[0mTicker\u001b[0m\u001b[0;34m(\u001b[0m\u001b[0;34m\"^GSPC\"\u001b[0m\u001b[0;34m)\u001b[0m\u001b[0;34m\u001b[0m\u001b[0;34m\u001b[0m\u001b[0m\n\u001b[1;32m      5\u001b[0m     \u001b[0msp500\u001b[0m \u001b[0;34m=\u001b[0m \u001b[0msp500\u001b[0m\u001b[0;34m.\u001b[0m\u001b[0mhistory\u001b[0m\u001b[0;34m(\u001b[0m\u001b[0mperiod\u001b[0m\u001b[0;34m=\u001b[0m\u001b[0;34m\"max\"\u001b[0m\u001b[0;34m)\u001b[0m\u001b[0;34m\u001b[0m\u001b[0;34m\u001b[0m\u001b[0m\n",
            "\u001b[0;31mNameError\u001b[0m: name 'os' is not defined"
          ]
        }
      ],
      "source": []
    },
    {
      "cell_type": "code",
      "source": [
        "import yfinance as yf\n",
        "import pandas as pd\n",
        "import os"
      ],
      "metadata": {
        "id": "_1KRF_3oMPYN"
      },
      "execution_count": 6,
      "outputs": []
    },
    {
      "cell_type": "code",
      "source": [
        "if os.path.exists(\"sp500.csv\"):\n",
        "    sp500 = pd.read_csv(\"sp500.csv\", index_col=0)\n",
        "else:\n",
        "    sp500 = yf.Ticker(\"^GSPC\")\n",
        "    sp500 = sp500.history(period=\"max\")\n",
        "    sp500.to_csv(\"sp500.csv\")"
      ],
      "metadata": {
        "id": "CNvw2QPULdUo"
      },
      "execution_count": 7,
      "outputs": []
    },
    {
      "cell_type": "code",
      "source": [
        "sp500.index = pd.to_datetime(sp500.index)"
      ],
      "metadata": {
        "id": "0BLrtI89Mdoo"
      },
      "execution_count": 8,
      "outputs": []
    },
    {
      "cell_type": "code",
      "source": [
        "sp500"
      ],
      "metadata": {
        "colab": {
          "base_uri": "https://localhost:8080/",
          "height": 455
        },
        "id": "DwEcroesMgko",
        "outputId": "01045f29-9632-4f91-a49d-c5321d11595c"
      },
      "execution_count": 9,
      "outputs": [
        {
          "output_type": "execute_result",
          "data": {
            "text/plain": [
              "                                  Open         High          Low        Close  \\\n",
              "Date                                                                            \n",
              "1927-12-30 00:00:00-05:00    17.660000    17.660000    17.660000    17.660000   \n",
              "1928-01-03 00:00:00-05:00    17.760000    17.760000    17.760000    17.760000   \n",
              "1928-01-04 00:00:00-05:00    17.719999    17.719999    17.719999    17.719999   \n",
              "1928-01-05 00:00:00-05:00    17.549999    17.549999    17.549999    17.549999   \n",
              "1928-01-06 00:00:00-05:00    17.660000    17.660000    17.660000    17.660000   \n",
              "...                                ...          ...          ...          ...   \n",
              "2023-04-10 00:00:00-04:00  4085.199951  4109.500000  4072.550049  4109.109863   \n",
              "2023-04-11 00:00:00-04:00  4110.290039  4124.259766  4102.609863  4108.939941   \n",
              "2023-04-12 00:00:00-04:00  4121.720215  4134.370117  4086.939941  4091.949951   \n",
              "2023-04-13 00:00:00-04:00  4100.040039  4150.259766  4099.399902  4146.220215   \n",
              "2023-04-14 00:00:00-04:00  4140.109863  4163.189941  4113.200195  4137.640137   \n",
              "\n",
              "                               Volume  Dividends  Stock Splits  \n",
              "Date                                                            \n",
              "1927-12-30 00:00:00-05:00           0        0.0           0.0  \n",
              "1928-01-03 00:00:00-05:00           0        0.0           0.0  \n",
              "1928-01-04 00:00:00-05:00           0        0.0           0.0  \n",
              "1928-01-05 00:00:00-05:00           0        0.0           0.0  \n",
              "1928-01-06 00:00:00-05:00           0        0.0           0.0  \n",
              "...                               ...        ...           ...  \n",
              "2023-04-10 00:00:00-04:00  3423650000        0.0           0.0  \n",
              "2023-04-11 00:00:00-04:00  3665830000        0.0           0.0  \n",
              "2023-04-12 00:00:00-04:00  3633120000        0.0           0.0  \n",
              "2023-04-13 00:00:00-04:00  3596590000        0.0           0.0  \n",
              "2023-04-14 00:00:00-04:00  3575690000        0.0           0.0  \n",
              "\n",
              "[23936 rows x 7 columns]"
            ],
            "text/html": [
              "\n",
              "  <div id=\"df-f0ef5617-f59f-4914-8b10-69796512a8d3\">\n",
              "    <div class=\"colab-df-container\">\n",
              "      <div>\n",
              "<style scoped>\n",
              "    .dataframe tbody tr th:only-of-type {\n",
              "        vertical-align: middle;\n",
              "    }\n",
              "\n",
              "    .dataframe tbody tr th {\n",
              "        vertical-align: top;\n",
              "    }\n",
              "\n",
              "    .dataframe thead th {\n",
              "        text-align: right;\n",
              "    }\n",
              "</style>\n",
              "<table border=\"1\" class=\"dataframe\">\n",
              "  <thead>\n",
              "    <tr style=\"text-align: right;\">\n",
              "      <th></th>\n",
              "      <th>Open</th>\n",
              "      <th>High</th>\n",
              "      <th>Low</th>\n",
              "      <th>Close</th>\n",
              "      <th>Volume</th>\n",
              "      <th>Dividends</th>\n",
              "      <th>Stock Splits</th>\n",
              "    </tr>\n",
              "    <tr>\n",
              "      <th>Date</th>\n",
              "      <th></th>\n",
              "      <th></th>\n",
              "      <th></th>\n",
              "      <th></th>\n",
              "      <th></th>\n",
              "      <th></th>\n",
              "      <th></th>\n",
              "    </tr>\n",
              "  </thead>\n",
              "  <tbody>\n",
              "    <tr>\n",
              "      <th>1927-12-30 00:00:00-05:00</th>\n",
              "      <td>17.660000</td>\n",
              "      <td>17.660000</td>\n",
              "      <td>17.660000</td>\n",
              "      <td>17.660000</td>\n",
              "      <td>0</td>\n",
              "      <td>0.0</td>\n",
              "      <td>0.0</td>\n",
              "    </tr>\n",
              "    <tr>\n",
              "      <th>1928-01-03 00:00:00-05:00</th>\n",
              "      <td>17.760000</td>\n",
              "      <td>17.760000</td>\n",
              "      <td>17.760000</td>\n",
              "      <td>17.760000</td>\n",
              "      <td>0</td>\n",
              "      <td>0.0</td>\n",
              "      <td>0.0</td>\n",
              "    </tr>\n",
              "    <tr>\n",
              "      <th>1928-01-04 00:00:00-05:00</th>\n",
              "      <td>17.719999</td>\n",
              "      <td>17.719999</td>\n",
              "      <td>17.719999</td>\n",
              "      <td>17.719999</td>\n",
              "      <td>0</td>\n",
              "      <td>0.0</td>\n",
              "      <td>0.0</td>\n",
              "    </tr>\n",
              "    <tr>\n",
              "      <th>1928-01-05 00:00:00-05:00</th>\n",
              "      <td>17.549999</td>\n",
              "      <td>17.549999</td>\n",
              "      <td>17.549999</td>\n",
              "      <td>17.549999</td>\n",
              "      <td>0</td>\n",
              "      <td>0.0</td>\n",
              "      <td>0.0</td>\n",
              "    </tr>\n",
              "    <tr>\n",
              "      <th>1928-01-06 00:00:00-05:00</th>\n",
              "      <td>17.660000</td>\n",
              "      <td>17.660000</td>\n",
              "      <td>17.660000</td>\n",
              "      <td>17.660000</td>\n",
              "      <td>0</td>\n",
              "      <td>0.0</td>\n",
              "      <td>0.0</td>\n",
              "    </tr>\n",
              "    <tr>\n",
              "      <th>...</th>\n",
              "      <td>...</td>\n",
              "      <td>...</td>\n",
              "      <td>...</td>\n",
              "      <td>...</td>\n",
              "      <td>...</td>\n",
              "      <td>...</td>\n",
              "      <td>...</td>\n",
              "    </tr>\n",
              "    <tr>\n",
              "      <th>2023-04-10 00:00:00-04:00</th>\n",
              "      <td>4085.199951</td>\n",
              "      <td>4109.500000</td>\n",
              "      <td>4072.550049</td>\n",
              "      <td>4109.109863</td>\n",
              "      <td>3423650000</td>\n",
              "      <td>0.0</td>\n",
              "      <td>0.0</td>\n",
              "    </tr>\n",
              "    <tr>\n",
              "      <th>2023-04-11 00:00:00-04:00</th>\n",
              "      <td>4110.290039</td>\n",
              "      <td>4124.259766</td>\n",
              "      <td>4102.609863</td>\n",
              "      <td>4108.939941</td>\n",
              "      <td>3665830000</td>\n",
              "      <td>0.0</td>\n",
              "      <td>0.0</td>\n",
              "    </tr>\n",
              "    <tr>\n",
              "      <th>2023-04-12 00:00:00-04:00</th>\n",
              "      <td>4121.720215</td>\n",
              "      <td>4134.370117</td>\n",
              "      <td>4086.939941</td>\n",
              "      <td>4091.949951</td>\n",
              "      <td>3633120000</td>\n",
              "      <td>0.0</td>\n",
              "      <td>0.0</td>\n",
              "    </tr>\n",
              "    <tr>\n",
              "      <th>2023-04-13 00:00:00-04:00</th>\n",
              "      <td>4100.040039</td>\n",
              "      <td>4150.259766</td>\n",
              "      <td>4099.399902</td>\n",
              "      <td>4146.220215</td>\n",
              "      <td>3596590000</td>\n",
              "      <td>0.0</td>\n",
              "      <td>0.0</td>\n",
              "    </tr>\n",
              "    <tr>\n",
              "      <th>2023-04-14 00:00:00-04:00</th>\n",
              "      <td>4140.109863</td>\n",
              "      <td>4163.189941</td>\n",
              "      <td>4113.200195</td>\n",
              "      <td>4137.640137</td>\n",
              "      <td>3575690000</td>\n",
              "      <td>0.0</td>\n",
              "      <td>0.0</td>\n",
              "    </tr>\n",
              "  </tbody>\n",
              "</table>\n",
              "<p>23936 rows × 7 columns</p>\n",
              "</div>\n",
              "      <button class=\"colab-df-convert\" onclick=\"convertToInteractive('df-f0ef5617-f59f-4914-8b10-69796512a8d3')\"\n",
              "              title=\"Convert this dataframe to an interactive table.\"\n",
              "              style=\"display:none;\">\n",
              "        \n",
              "  <svg xmlns=\"http://www.w3.org/2000/svg\" height=\"24px\"viewBox=\"0 0 24 24\"\n",
              "       width=\"24px\">\n",
              "    <path d=\"M0 0h24v24H0V0z\" fill=\"none\"/>\n",
              "    <path d=\"M18.56 5.44l.94 2.06.94-2.06 2.06-.94-2.06-.94-.94-2.06-.94 2.06-2.06.94zm-11 1L8.5 8.5l.94-2.06 2.06-.94-2.06-.94L8.5 2.5l-.94 2.06-2.06.94zm10 10l.94 2.06.94-2.06 2.06-.94-2.06-.94-.94-2.06-.94 2.06-2.06.94z\"/><path d=\"M17.41 7.96l-1.37-1.37c-.4-.4-.92-.59-1.43-.59-.52 0-1.04.2-1.43.59L10.3 9.45l-7.72 7.72c-.78.78-.78 2.05 0 2.83L4 21.41c.39.39.9.59 1.41.59.51 0 1.02-.2 1.41-.59l7.78-7.78 2.81-2.81c.8-.78.8-2.07 0-2.86zM5.41 20L4 18.59l7.72-7.72 1.47 1.35L5.41 20z\"/>\n",
              "  </svg>\n",
              "      </button>\n",
              "      \n",
              "  <style>\n",
              "    .colab-df-container {\n",
              "      display:flex;\n",
              "      flex-wrap:wrap;\n",
              "      gap: 12px;\n",
              "    }\n",
              "\n",
              "    .colab-df-convert {\n",
              "      background-color: #E8F0FE;\n",
              "      border: none;\n",
              "      border-radius: 50%;\n",
              "      cursor: pointer;\n",
              "      display: none;\n",
              "      fill: #1967D2;\n",
              "      height: 32px;\n",
              "      padding: 0 0 0 0;\n",
              "      width: 32px;\n",
              "    }\n",
              "\n",
              "    .colab-df-convert:hover {\n",
              "      background-color: #E2EBFA;\n",
              "      box-shadow: 0px 1px 2px rgba(60, 64, 67, 0.3), 0px 1px 3px 1px rgba(60, 64, 67, 0.15);\n",
              "      fill: #174EA6;\n",
              "    }\n",
              "\n",
              "    [theme=dark] .colab-df-convert {\n",
              "      background-color: #3B4455;\n",
              "      fill: #D2E3FC;\n",
              "    }\n",
              "\n",
              "    [theme=dark] .colab-df-convert:hover {\n",
              "      background-color: #434B5C;\n",
              "      box-shadow: 0px 1px 3px 1px rgba(0, 0, 0, 0.15);\n",
              "      filter: drop-shadow(0px 1px 2px rgba(0, 0, 0, 0.3));\n",
              "      fill: #FFFFFF;\n",
              "    }\n",
              "  </style>\n",
              "\n",
              "      <script>\n",
              "        const buttonEl =\n",
              "          document.querySelector('#df-f0ef5617-f59f-4914-8b10-69796512a8d3 button.colab-df-convert');\n",
              "        buttonEl.style.display =\n",
              "          google.colab.kernel.accessAllowed ? 'block' : 'none';\n",
              "\n",
              "        async function convertToInteractive(key) {\n",
              "          const element = document.querySelector('#df-f0ef5617-f59f-4914-8b10-69796512a8d3');\n",
              "          const dataTable =\n",
              "            await google.colab.kernel.invokeFunction('convertToInteractive',\n",
              "                                                     [key], {});\n",
              "          if (!dataTable) return;\n",
              "\n",
              "          const docLinkHtml = 'Like what you see? Visit the ' +\n",
              "            '<a target=\"_blank\" href=https://colab.research.google.com/notebooks/data_table.ipynb>data table notebook</a>'\n",
              "            + ' to learn more about interactive tables.';\n",
              "          element.innerHTML = '';\n",
              "          dataTable['output_type'] = 'display_data';\n",
              "          await google.colab.output.renderOutput(dataTable, element);\n",
              "          const docLink = document.createElement('div');\n",
              "          docLink.innerHTML = docLinkHtml;\n",
              "          element.appendChild(docLink);\n",
              "        }\n",
              "      </script>\n",
              "    </div>\n",
              "  </div>\n",
              "  "
            ]
          },
          "metadata": {},
          "execution_count": 9
        }
      ]
    },
    {
      "cell_type": "code",
      "source": [
        "sp500.plot.line(y=\"Close\", use_index=True)"
      ],
      "metadata": {
        "colab": {
          "base_uri": "https://localhost:8080/",
          "height": 442
        },
        "id": "sTJ_T_toMsaC",
        "outputId": "2868f058-0ce3-4e92-dd15-4a103953619e"
      },
      "execution_count": 10,
      "outputs": [
        {
          "output_type": "execute_result",
          "data": {
            "text/plain": [
              "<Axes: xlabel='Date'>"
            ]
          },
          "metadata": {},
          "execution_count": 10
        },
        {
          "output_type": "display_data",
          "data": {
            "text/plain": [
              "<Figure size 640x480 with 1 Axes>"
            ],
            "image/png": "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\n"
          },
          "metadata": {}
        }
      ]
    },
    {
      "cell_type": "code",
      "source": [
        "del sp500[\"Dividends\"]\n",
        "del sp500[\"Stock Splits\"]"
      ],
      "metadata": {
        "id": "aNOptUdUM3JG"
      },
      "execution_count": 11,
      "outputs": []
    },
    {
      "cell_type": "code",
      "source": [
        "sp500[\"Tomorrow\"] = sp500[\"Close\"].shift(-1)"
      ],
      "metadata": {
        "id": "Uj1MqGnVM7AF"
      },
      "execution_count": 12,
      "outputs": []
    },
    {
      "cell_type": "code",
      "source": [
        "sp500[\"Target\"] = (sp500[\"Tomorrow\"] > sp500[\"Close\"]).astype(int)"
      ],
      "metadata": {
        "id": "S_w_45wsM_z1"
      },
      "execution_count": 13,
      "outputs": []
    },
    {
      "cell_type": "code",
      "source": [
        "sp500 = sp500.loc[\"1990-01-01\":].copy()"
      ],
      "metadata": {
        "id": "BudfSv_LNQj-"
      },
      "execution_count": 14,
      "outputs": []
    },
    {
      "cell_type": "code",
      "source": [
        "from sklearn.ensemble import RandomForestClassifier\n",
        "\n",
        "model = RandomForestClassifier(n_estimators=100, min_samples_split=100, random_state=1)\n",
        "\n",
        "train = sp500.iloc[:-100]\n",
        "test = sp500.iloc[-100:]\n",
        "\n",
        "predictors = [\"Close\", \"Volume\", \"Open\", \"High\", \"Low\"]\n",
        "model.fit(train[predictors], train[\"Target\"])"
      ],
      "metadata": {
        "colab": {
          "base_uri": "https://localhost:8080/",
          "height": 74
        },
        "id": "jRmTSxeJNTZK",
        "outputId": "31b8d88e-a448-42a8-b357-45dc86e3c8f9"
      },
      "execution_count": 15,
      "outputs": [
        {
          "output_type": "execute_result",
          "data": {
            "text/plain": [
              "RandomForestClassifier(min_samples_split=100, random_state=1)"
            ],
            "text/html": [
              "<style>#sk-container-id-1 {color: black;background-color: white;}#sk-container-id-1 pre{padding: 0;}#sk-container-id-1 div.sk-toggleable {background-color: white;}#sk-container-id-1 label.sk-toggleable__label {cursor: pointer;display: block;width: 100%;margin-bottom: 0;padding: 0.3em;box-sizing: border-box;text-align: center;}#sk-container-id-1 label.sk-toggleable__label-arrow:before {content: \"▸\";float: left;margin-right: 0.25em;color: #696969;}#sk-container-id-1 label.sk-toggleable__label-arrow:hover:before {color: black;}#sk-container-id-1 div.sk-estimator:hover label.sk-toggleable__label-arrow:before {color: black;}#sk-container-id-1 div.sk-toggleable__content {max-height: 0;max-width: 0;overflow: hidden;text-align: left;background-color: #f0f8ff;}#sk-container-id-1 div.sk-toggleable__content pre {margin: 0.2em;color: black;border-radius: 0.25em;background-color: #f0f8ff;}#sk-container-id-1 input.sk-toggleable__control:checked~div.sk-toggleable__content {max-height: 200px;max-width: 100%;overflow: auto;}#sk-container-id-1 input.sk-toggleable__control:checked~label.sk-toggleable__label-arrow:before {content: \"▾\";}#sk-container-id-1 div.sk-estimator input.sk-toggleable__control:checked~label.sk-toggleable__label {background-color: #d4ebff;}#sk-container-id-1 div.sk-label input.sk-toggleable__control:checked~label.sk-toggleable__label {background-color: #d4ebff;}#sk-container-id-1 input.sk-hidden--visually {border: 0;clip: rect(1px 1px 1px 1px);clip: rect(1px, 1px, 1px, 1px);height: 1px;margin: -1px;overflow: hidden;padding: 0;position: absolute;width: 1px;}#sk-container-id-1 div.sk-estimator {font-family: monospace;background-color: #f0f8ff;border: 1px dotted black;border-radius: 0.25em;box-sizing: border-box;margin-bottom: 0.5em;}#sk-container-id-1 div.sk-estimator:hover {background-color: #d4ebff;}#sk-container-id-1 div.sk-parallel-item::after {content: \"\";width: 100%;border-bottom: 1px solid gray;flex-grow: 1;}#sk-container-id-1 div.sk-label:hover label.sk-toggleable__label {background-color: #d4ebff;}#sk-container-id-1 div.sk-serial::before {content: \"\";position: absolute;border-left: 1px solid gray;box-sizing: border-box;top: 0;bottom: 0;left: 50%;z-index: 0;}#sk-container-id-1 div.sk-serial {display: flex;flex-direction: column;align-items: center;background-color: white;padding-right: 0.2em;padding-left: 0.2em;position: relative;}#sk-container-id-1 div.sk-item {position: relative;z-index: 1;}#sk-container-id-1 div.sk-parallel {display: flex;align-items: stretch;justify-content: center;background-color: white;position: relative;}#sk-container-id-1 div.sk-item::before, #sk-container-id-1 div.sk-parallel-item::before {content: \"\";position: absolute;border-left: 1px solid gray;box-sizing: border-box;top: 0;bottom: 0;left: 50%;z-index: -1;}#sk-container-id-1 div.sk-parallel-item {display: flex;flex-direction: column;z-index: 1;position: relative;background-color: white;}#sk-container-id-1 div.sk-parallel-item:first-child::after {align-self: flex-end;width: 50%;}#sk-container-id-1 div.sk-parallel-item:last-child::after {align-self: flex-start;width: 50%;}#sk-container-id-1 div.sk-parallel-item:only-child::after {width: 0;}#sk-container-id-1 div.sk-dashed-wrapped {border: 1px dashed gray;margin: 0 0.4em 0.5em 0.4em;box-sizing: border-box;padding-bottom: 0.4em;background-color: white;}#sk-container-id-1 div.sk-label label {font-family: monospace;font-weight: bold;display: inline-block;line-height: 1.2em;}#sk-container-id-1 div.sk-label-container {text-align: center;}#sk-container-id-1 div.sk-container {/* jupyter's `normalize.less` sets `[hidden] { display: none; }` but bootstrap.min.css set `[hidden] { display: none !important; }` so we also need the `!important` here to be able to override the default hidden behavior on the sphinx rendered scikit-learn.org. See: https://github.com/scikit-learn/scikit-learn/issues/21755 */display: inline-block !important;position: relative;}#sk-container-id-1 div.sk-text-repr-fallback {display: none;}</style><div id=\"sk-container-id-1\" class=\"sk-top-container\"><div class=\"sk-text-repr-fallback\"><pre>RandomForestClassifier(min_samples_split=100, random_state=1)</pre><b>In a Jupyter environment, please rerun this cell to show the HTML representation or trust the notebook. <br />On GitHub, the HTML representation is unable to render, please try loading this page with nbviewer.org.</b></div><div class=\"sk-container\" hidden><div class=\"sk-item\"><div class=\"sk-estimator sk-toggleable\"><input class=\"sk-toggleable__control sk-hidden--visually\" id=\"sk-estimator-id-1\" type=\"checkbox\" checked><label for=\"sk-estimator-id-1\" class=\"sk-toggleable__label sk-toggleable__label-arrow\">RandomForestClassifier</label><div class=\"sk-toggleable__content\"><pre>RandomForestClassifier(min_samples_split=100, random_state=1)</pre></div></div></div></div></div>"
            ]
          },
          "metadata": {},
          "execution_count": 15
        }
      ]
    },
    {
      "cell_type": "code",
      "source": [
        "from sklearn.metrics import precision_score\n",
        "\n",
        "preds = model.predict(test[predictors])\n",
        "preds = pd.Series(preds, index=test.index)\n",
        "precision_score(test[\"Target\"], preds)"
      ],
      "metadata": {
        "colab": {
          "base_uri": "https://localhost:8080/"
        },
        "id": "VMuIV-zgNXO8",
        "outputId": "ef1ffbea-2965-41fb-b6b3-0641b6cd0855"
      },
      "execution_count": 16,
      "outputs": [
        {
          "output_type": "execute_result",
          "data": {
            "text/plain": [
              "0.38095238095238093"
            ]
          },
          "metadata": {},
          "execution_count": 16
        }
      ]
    },
    {
      "cell_type": "code",
      "source": [
        "combined = pd.concat([test[\"Target\"], preds], axis=1)\n",
        "combined.plot()"
      ],
      "metadata": {
        "colab": {
          "base_uri": "https://localhost:8080/",
          "height": 450
        },
        "id": "srdhvs9wNbNH",
        "outputId": "7b727e45-4865-4622-bcf4-e5093755778d"
      },
      "execution_count": 17,
      "outputs": [
        {
          "output_type": "execute_result",
          "data": {
            "text/plain": [
              "<Axes: xlabel='Date'>"
            ]
          },
          "metadata": {},
          "execution_count": 17
        },
        {
          "output_type": "display_data",
          "data": {
            "text/plain": [
              "<Figure size 640x480 with 1 Axes>"
            ],
            "image/png": "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\n"
          },
          "metadata": {}
        }
      ]
    },
    {
      "cell_type": "code",
      "source": [
        "def predict(train, test, predictors, model):\n",
        "    model.fit(train[predictors], train[\"Target\"])\n",
        "    preds = model.predict(test[predictors])\n",
        "    preds = pd.Series(preds, index=test.index, name=\"Predictions\")\n",
        "    combined = pd.concat([test[\"Target\"], preds], axis=1)\n",
        "    return combined"
      ],
      "metadata": {
        "id": "ixULa9MINitS"
      },
      "execution_count": 19,
      "outputs": []
    },
    {
      "cell_type": "code",
      "source": [
        "def backtest(data, model, predictors, start=2500, step=250):\n",
        "    all_predictions = []\n",
        "\n",
        "    for i in range(start, data.shape[0], step):\n",
        "        train = data.iloc[0:i].copy()\n",
        "        test = data.iloc[i:(i+step)].copy()\n",
        "        predictions = predict(train, test, predictors, model)\n",
        "        all_predictions.append(predictions)\n",
        "    \n",
        "    return pd.concat(all_predictions)"
      ],
      "metadata": {
        "id": "B_I2YDxUOPsf"
      },
      "execution_count": 20,
      "outputs": []
    },
    {
      "cell_type": "code",
      "source": [
        "predictions = backtest(sp500, model, predictors)"
      ],
      "metadata": {
        "id": "y7iH4aXmOSDB"
      },
      "execution_count": 21,
      "outputs": []
    },
    {
      "cell_type": "code",
      "source": [
        "precision_score(predictions[\"Target\"], predictions[\"Predictions\"])"
      ],
      "metadata": {
        "colab": {
          "base_uri": "https://localhost:8080/"
        },
        "id": "ayl4xK4AOm-q",
        "outputId": "30cde80a-739c-4939-82aa-129a50330f4d"
      },
      "execution_count": 22,
      "outputs": [
        {
          "output_type": "execute_result",
          "data": {
            "text/plain": [
              "0.5281035179943389"
            ]
          },
          "metadata": {},
          "execution_count": 22
        }
      ]
    },
    {
      "cell_type": "code",
      "source": [
        "predictions[\"Target\"].value_counts() / predictions.shape[0]"
      ],
      "metadata": {
        "colab": {
          "base_uri": "https://localhost:8080/"
        },
        "id": "vz9TrlXyOx8o",
        "outputId": "441d7f1a-579e-424b-dbb8-82430d37c345"
      },
      "execution_count": 23,
      "outputs": [
        {
          "output_type": "execute_result",
          "data": {
            "text/plain": [
              "1    0.533809\n",
              "0    0.466191\n",
              "Name: Target, dtype: float64"
            ]
          },
          "metadata": {},
          "execution_count": 23
        }
      ]
    },
    {
      "cell_type": "code",
      "source": [
        "horizons = [2,5,60,250,1000]\n",
        "new_predictors = []\n",
        "\n",
        "for horizon in horizons:\n",
        "    rolling_averages = sp500.rolling(horizon).mean()\n",
        "    \n",
        "    ratio_column = f\"Close_Ratio_{horizon}\"\n",
        "    sp500[ratio_column] = sp500[\"Close\"] / rolling_averages[\"Close\"]\n",
        "    \n",
        "    trend_column = f\"Trend_{horizon}\"\n",
        "    sp500[trend_column] = sp500.shift(1).rolling(horizon).sum()[\"Target\"]\n",
        "    \n",
        "    new_predictors+= [ratio_column, trend_column]"
      ],
      "metadata": {
        "id": "fne4uDxWO0Cj"
      },
      "execution_count": 24,
      "outputs": []
    },
    {
      "cell_type": "code",
      "source": [
        "sp500 = sp500.dropna(subset=sp500.columns[sp500.columns != \"Tomorrow\"])"
      ],
      "metadata": {
        "id": "3MuIq043O_bX"
      },
      "execution_count": 25,
      "outputs": []
    },
    {
      "cell_type": "code",
      "source": [
        "sp500"
      ],
      "metadata": {
        "colab": {
          "base_uri": "https://localhost:8080/",
          "height": 1000
        },
        "id": "iIkiiFqsPHIf",
        "outputId": "803b83b3-c27a-4fa5-93cf-525e86115b3b"
      },
      "execution_count": 26,
      "outputs": [
        {
          "output_type": "execute_result",
          "data": {
            "text/plain": [
              "                                  Open         High          Low        Close  \\\n",
              "Date                                                                            \n",
              "1993-12-14 00:00:00-05:00   465.730011   466.119995   462.459991   463.059998   \n",
              "1993-12-15 00:00:00-05:00   463.059998   463.690002   461.839996   461.839996   \n",
              "1993-12-16 00:00:00-05:00   461.859985   463.980011   461.859985   463.339996   \n",
              "1993-12-17 00:00:00-05:00   463.339996   466.380005   463.339996   466.380005   \n",
              "1993-12-20 00:00:00-05:00   466.380005   466.899994   465.529999   465.850006   \n",
              "...                                ...          ...          ...          ...   \n",
              "2023-04-10 00:00:00-04:00  4085.199951  4109.500000  4072.550049  4109.109863   \n",
              "2023-04-11 00:00:00-04:00  4110.290039  4124.259766  4102.609863  4108.939941   \n",
              "2023-04-12 00:00:00-04:00  4121.720215  4134.370117  4086.939941  4091.949951   \n",
              "2023-04-13 00:00:00-04:00  4100.040039  4150.259766  4099.399902  4146.220215   \n",
              "2023-04-14 00:00:00-04:00  4140.109863  4163.189941  4113.200195  4137.640137   \n",
              "\n",
              "                               Volume     Tomorrow  Target  Close_Ratio_2  \\\n",
              "Date                                                                        \n",
              "1993-12-14 00:00:00-05:00   275050000   461.839996       0       0.997157   \n",
              "1993-12-15 00:00:00-05:00   331770000   463.339996       1       0.998681   \n",
              "1993-12-16 00:00:00-05:00   284620000   466.380005       1       1.001621   \n",
              "1993-12-17 00:00:00-05:00   363750000   465.850006       0       1.003270   \n",
              "1993-12-20 00:00:00-05:00   255900000   465.299988       0       0.999431   \n",
              "...                               ...          ...     ...            ...   \n",
              "2023-04-10 00:00:00-04:00  3423650000  4108.939941       0       1.000498   \n",
              "2023-04-11 00:00:00-04:00  3665830000  4091.949951       0       0.999979   \n",
              "2023-04-12 00:00:00-04:00  3633120000  4146.220215       1       0.997928   \n",
              "2023-04-13 00:00:00-04:00  3596590000  4137.640137       0       1.006588   \n",
              "2023-04-14 00:00:00-04:00  3575690000          NaN       0       0.998964   \n",
              "\n",
              "                           Trend_2  Close_Ratio_5  Trend_5  Close_Ratio_60  \\\n",
              "Date                                                                         \n",
              "1993-12-14 00:00:00-05:00      1.0       0.996617      1.0        1.000283   \n",
              "1993-12-15 00:00:00-05:00      0.0       0.995899      1.0        0.997329   \n",
              "1993-12-16 00:00:00-05:00      1.0       0.999495      2.0        1.000311   \n",
              "1993-12-17 00:00:00-05:00      2.0       1.004991      3.0        1.006561   \n",
              "1993-12-20 00:00:00-05:00      1.0       1.003784      2.0        1.005120   \n",
              "...                            ...            ...      ...             ...   \n",
              "2023-04-10 00:00:00-04:00      2.0       1.000776      3.0        1.021437   \n",
              "2023-04-11 00:00:00-04:00      1.0       1.001494      2.0        1.020862   \n",
              "2023-04-12 00:00:00-04:00      0.0       0.997774      2.0        1.016251   \n",
              "2023-04-13 00:00:00-04:00      1.0       1.008261      3.0        1.029067   \n",
              "2023-04-14 00:00:00-04:00      1.0       1.004581      2.0        1.026052   \n",
              "\n",
              "                           Trend_60  Close_Ratio_250  Trend_250  \\\n",
              "Date                                                              \n",
              "1993-12-14 00:00:00-05:00      32.0         1.028047      127.0   \n",
              "1993-12-15 00:00:00-05:00      32.0         1.025151      126.0   \n",
              "1993-12-16 00:00:00-05:00      32.0         1.028274      127.0   \n",
              "1993-12-17 00:00:00-05:00      32.0         1.034781      128.0   \n",
              "1993-12-20 00:00:00-05:00      32.0         1.033359      128.0   \n",
              "...                             ...              ...        ...   \n",
              "2023-04-10 00:00:00-04:00      32.0         1.034125      114.0   \n",
              "2023-04-11 00:00:00-04:00      31.0         1.034398      114.0   \n",
              "2023-04-12 00:00:00-04:00      30.0         1.030438      114.0   \n",
              "2023-04-13 00:00:00-04:00      31.0         1.044421      114.0   \n",
              "2023-04-14 00:00:00-04:00      31.0         1.042527      114.0   \n",
              "\n",
              "                           Close_Ratio_1000  Trend_1000  \n",
              "Date                                                     \n",
              "1993-12-14 00:00:00-05:00          1.176082       512.0  \n",
              "1993-12-15 00:00:00-05:00          1.172676       512.0  \n",
              "1993-12-16 00:00:00-05:00          1.176163       513.0  \n",
              "1993-12-17 00:00:00-05:00          1.183537       514.0  \n",
              "1993-12-20 00:00:00-05:00          1.181856       513.0  \n",
              "...                                     ...         ...  \n",
              "2023-04-10 00:00:00-04:00          1.105788       534.0  \n",
              "2023-04-11 00:00:00-04:00          1.105385       533.0  \n",
              "2023-04-12 00:00:00-04:00          1.100472       532.0  \n",
              "2023-04-13 00:00:00-04:00          1.114702       533.0  \n",
              "2023-04-14 00:00:00-04:00          1.112033       533.0  \n",
              "\n",
              "[7386 rows x 17 columns]"
            ],
            "text/html": [
              "\n",
              "  <div id=\"df-6d6d436a-00c2-4db4-b984-85e0a4a03f61\">\n",
              "    <div class=\"colab-df-container\">\n",
              "      <div>\n",
              "<style scoped>\n",
              "    .dataframe tbody tr th:only-of-type {\n",
              "        vertical-align: middle;\n",
              "    }\n",
              "\n",
              "    .dataframe tbody tr th {\n",
              "        vertical-align: top;\n",
              "    }\n",
              "\n",
              "    .dataframe thead th {\n",
              "        text-align: right;\n",
              "    }\n",
              "</style>\n",
              "<table border=\"1\" class=\"dataframe\">\n",
              "  <thead>\n",
              "    <tr style=\"text-align: right;\">\n",
              "      <th></th>\n",
              "      <th>Open</th>\n",
              "      <th>High</th>\n",
              "      <th>Low</th>\n",
              "      <th>Close</th>\n",
              "      <th>Volume</th>\n",
              "      <th>Tomorrow</th>\n",
              "      <th>Target</th>\n",
              "      <th>Close_Ratio_2</th>\n",
              "      <th>Trend_2</th>\n",
              "      <th>Close_Ratio_5</th>\n",
              "      <th>Trend_5</th>\n",
              "      <th>Close_Ratio_60</th>\n",
              "      <th>Trend_60</th>\n",
              "      <th>Close_Ratio_250</th>\n",
              "      <th>Trend_250</th>\n",
              "      <th>Close_Ratio_1000</th>\n",
              "      <th>Trend_1000</th>\n",
              "    </tr>\n",
              "    <tr>\n",
              "      <th>Date</th>\n",
              "      <th></th>\n",
              "      <th></th>\n",
              "      <th></th>\n",
              "      <th></th>\n",
              "      <th></th>\n",
              "      <th></th>\n",
              "      <th></th>\n",
              "      <th></th>\n",
              "      <th></th>\n",
              "      <th></th>\n",
              "      <th></th>\n",
              "      <th></th>\n",
              "      <th></th>\n",
              "      <th></th>\n",
              "      <th></th>\n",
              "      <th></th>\n",
              "      <th></th>\n",
              "    </tr>\n",
              "  </thead>\n",
              "  <tbody>\n",
              "    <tr>\n",
              "      <th>1993-12-14 00:00:00-05:00</th>\n",
              "      <td>465.730011</td>\n",
              "      <td>466.119995</td>\n",
              "      <td>462.459991</td>\n",
              "      <td>463.059998</td>\n",
              "      <td>275050000</td>\n",
              "      <td>461.839996</td>\n",
              "      <td>0</td>\n",
              "      <td>0.997157</td>\n",
              "      <td>1.0</td>\n",
              "      <td>0.996617</td>\n",
              "      <td>1.0</td>\n",
              "      <td>1.000283</td>\n",
              "      <td>32.0</td>\n",
              "      <td>1.028047</td>\n",
              "      <td>127.0</td>\n",
              "      <td>1.176082</td>\n",
              "      <td>512.0</td>\n",
              "    </tr>\n",
              "    <tr>\n",
              "      <th>1993-12-15 00:00:00-05:00</th>\n",
              "      <td>463.059998</td>\n",
              "      <td>463.690002</td>\n",
              "      <td>461.839996</td>\n",
              "      <td>461.839996</td>\n",
              "      <td>331770000</td>\n",
              "      <td>463.339996</td>\n",
              "      <td>1</td>\n",
              "      <td>0.998681</td>\n",
              "      <td>0.0</td>\n",
              "      <td>0.995899</td>\n",
              "      <td>1.0</td>\n",
              "      <td>0.997329</td>\n",
              "      <td>32.0</td>\n",
              "      <td>1.025151</td>\n",
              "      <td>126.0</td>\n",
              "      <td>1.172676</td>\n",
              "      <td>512.0</td>\n",
              "    </tr>\n",
              "    <tr>\n",
              "      <th>1993-12-16 00:00:00-05:00</th>\n",
              "      <td>461.859985</td>\n",
              "      <td>463.980011</td>\n",
              "      <td>461.859985</td>\n",
              "      <td>463.339996</td>\n",
              "      <td>284620000</td>\n",
              "      <td>466.380005</td>\n",
              "      <td>1</td>\n",
              "      <td>1.001621</td>\n",
              "      <td>1.0</td>\n",
              "      <td>0.999495</td>\n",
              "      <td>2.0</td>\n",
              "      <td>1.000311</td>\n",
              "      <td>32.0</td>\n",
              "      <td>1.028274</td>\n",
              "      <td>127.0</td>\n",
              "      <td>1.176163</td>\n",
              "      <td>513.0</td>\n",
              "    </tr>\n",
              "    <tr>\n",
              "      <th>1993-12-17 00:00:00-05:00</th>\n",
              "      <td>463.339996</td>\n",
              "      <td>466.380005</td>\n",
              "      <td>463.339996</td>\n",
              "      <td>466.380005</td>\n",
              "      <td>363750000</td>\n",
              "      <td>465.850006</td>\n",
              "      <td>0</td>\n",
              "      <td>1.003270</td>\n",
              "      <td>2.0</td>\n",
              "      <td>1.004991</td>\n",
              "      <td>3.0</td>\n",
              "      <td>1.006561</td>\n",
              "      <td>32.0</td>\n",
              "      <td>1.034781</td>\n",
              "      <td>128.0</td>\n",
              "      <td>1.183537</td>\n",
              "      <td>514.0</td>\n",
              "    </tr>\n",
              "    <tr>\n",
              "      <th>1993-12-20 00:00:00-05:00</th>\n",
              "      <td>466.380005</td>\n",
              "      <td>466.899994</td>\n",
              "      <td>465.529999</td>\n",
              "      <td>465.850006</td>\n",
              "      <td>255900000</td>\n",
              "      <td>465.299988</td>\n",
              "      <td>0</td>\n",
              "      <td>0.999431</td>\n",
              "      <td>1.0</td>\n",
              "      <td>1.003784</td>\n",
              "      <td>2.0</td>\n",
              "      <td>1.005120</td>\n",
              "      <td>32.0</td>\n",
              "      <td>1.033359</td>\n",
              "      <td>128.0</td>\n",
              "      <td>1.181856</td>\n",
              "      <td>513.0</td>\n",
              "    </tr>\n",
              "    <tr>\n",
              "      <th>...</th>\n",
              "      <td>...</td>\n",
              "      <td>...</td>\n",
              "      <td>...</td>\n",
              "      <td>...</td>\n",
              "      <td>...</td>\n",
              "      <td>...</td>\n",
              "      <td>...</td>\n",
              "      <td>...</td>\n",
              "      <td>...</td>\n",
              "      <td>...</td>\n",
              "      <td>...</td>\n",
              "      <td>...</td>\n",
              "      <td>...</td>\n",
              "      <td>...</td>\n",
              "      <td>...</td>\n",
              "      <td>...</td>\n",
              "      <td>...</td>\n",
              "    </tr>\n",
              "    <tr>\n",
              "      <th>2023-04-10 00:00:00-04:00</th>\n",
              "      <td>4085.199951</td>\n",
              "      <td>4109.500000</td>\n",
              "      <td>4072.550049</td>\n",
              "      <td>4109.109863</td>\n",
              "      <td>3423650000</td>\n",
              "      <td>4108.939941</td>\n",
              "      <td>0</td>\n",
              "      <td>1.000498</td>\n",
              "      <td>2.0</td>\n",
              "      <td>1.000776</td>\n",
              "      <td>3.0</td>\n",
              "      <td>1.021437</td>\n",
              "      <td>32.0</td>\n",
              "      <td>1.034125</td>\n",
              "      <td>114.0</td>\n",
              "      <td>1.105788</td>\n",
              "      <td>534.0</td>\n",
              "    </tr>\n",
              "    <tr>\n",
              "      <th>2023-04-11 00:00:00-04:00</th>\n",
              "      <td>4110.290039</td>\n",
              "      <td>4124.259766</td>\n",
              "      <td>4102.609863</td>\n",
              "      <td>4108.939941</td>\n",
              "      <td>3665830000</td>\n",
              "      <td>4091.949951</td>\n",
              "      <td>0</td>\n",
              "      <td>0.999979</td>\n",
              "      <td>1.0</td>\n",
              "      <td>1.001494</td>\n",
              "      <td>2.0</td>\n",
              "      <td>1.020862</td>\n",
              "      <td>31.0</td>\n",
              "      <td>1.034398</td>\n",
              "      <td>114.0</td>\n",
              "      <td>1.105385</td>\n",
              "      <td>533.0</td>\n",
              "    </tr>\n",
              "    <tr>\n",
              "      <th>2023-04-12 00:00:00-04:00</th>\n",
              "      <td>4121.720215</td>\n",
              "      <td>4134.370117</td>\n",
              "      <td>4086.939941</td>\n",
              "      <td>4091.949951</td>\n",
              "      <td>3633120000</td>\n",
              "      <td>4146.220215</td>\n",
              "      <td>1</td>\n",
              "      <td>0.997928</td>\n",
              "      <td>0.0</td>\n",
              "      <td>0.997774</td>\n",
              "      <td>2.0</td>\n",
              "      <td>1.016251</td>\n",
              "      <td>30.0</td>\n",
              "      <td>1.030438</td>\n",
              "      <td>114.0</td>\n",
              "      <td>1.100472</td>\n",
              "      <td>532.0</td>\n",
              "    </tr>\n",
              "    <tr>\n",
              "      <th>2023-04-13 00:00:00-04:00</th>\n",
              "      <td>4100.040039</td>\n",
              "      <td>4150.259766</td>\n",
              "      <td>4099.399902</td>\n",
              "      <td>4146.220215</td>\n",
              "      <td>3596590000</td>\n",
              "      <td>4137.640137</td>\n",
              "      <td>0</td>\n",
              "      <td>1.006588</td>\n",
              "      <td>1.0</td>\n",
              "      <td>1.008261</td>\n",
              "      <td>3.0</td>\n",
              "      <td>1.029067</td>\n",
              "      <td>31.0</td>\n",
              "      <td>1.044421</td>\n",
              "      <td>114.0</td>\n",
              "      <td>1.114702</td>\n",
              "      <td>533.0</td>\n",
              "    </tr>\n",
              "    <tr>\n",
              "      <th>2023-04-14 00:00:00-04:00</th>\n",
              "      <td>4140.109863</td>\n",
              "      <td>4163.189941</td>\n",
              "      <td>4113.200195</td>\n",
              "      <td>4137.640137</td>\n",
              "      <td>3575690000</td>\n",
              "      <td>NaN</td>\n",
              "      <td>0</td>\n",
              "      <td>0.998964</td>\n",
              "      <td>1.0</td>\n",
              "      <td>1.004581</td>\n",
              "      <td>2.0</td>\n",
              "      <td>1.026052</td>\n",
              "      <td>31.0</td>\n",
              "      <td>1.042527</td>\n",
              "      <td>114.0</td>\n",
              "      <td>1.112033</td>\n",
              "      <td>533.0</td>\n",
              "    </tr>\n",
              "  </tbody>\n",
              "</table>\n",
              "<p>7386 rows × 17 columns</p>\n",
              "</div>\n",
              "      <button class=\"colab-df-convert\" onclick=\"convertToInteractive('df-6d6d436a-00c2-4db4-b984-85e0a4a03f61')\"\n",
              "              title=\"Convert this dataframe to an interactive table.\"\n",
              "              style=\"display:none;\">\n",
              "        \n",
              "  <svg xmlns=\"http://www.w3.org/2000/svg\" height=\"24px\"viewBox=\"0 0 24 24\"\n",
              "       width=\"24px\">\n",
              "    <path d=\"M0 0h24v24H0V0z\" fill=\"none\"/>\n",
              "    <path d=\"M18.56 5.44l.94 2.06.94-2.06 2.06-.94-2.06-.94-.94-2.06-.94 2.06-2.06.94zm-11 1L8.5 8.5l.94-2.06 2.06-.94-2.06-.94L8.5 2.5l-.94 2.06-2.06.94zm10 10l.94 2.06.94-2.06 2.06-.94-2.06-.94-.94-2.06-.94 2.06-2.06.94z\"/><path d=\"M17.41 7.96l-1.37-1.37c-.4-.4-.92-.59-1.43-.59-.52 0-1.04.2-1.43.59L10.3 9.45l-7.72 7.72c-.78.78-.78 2.05 0 2.83L4 21.41c.39.39.9.59 1.41.59.51 0 1.02-.2 1.41-.59l7.78-7.78 2.81-2.81c.8-.78.8-2.07 0-2.86zM5.41 20L4 18.59l7.72-7.72 1.47 1.35L5.41 20z\"/>\n",
              "  </svg>\n",
              "      </button>\n",
              "      \n",
              "  <style>\n",
              "    .colab-df-container {\n",
              "      display:flex;\n",
              "      flex-wrap:wrap;\n",
              "      gap: 12px;\n",
              "    }\n",
              "\n",
              "    .colab-df-convert {\n",
              "      background-color: #E8F0FE;\n",
              "      border: none;\n",
              "      border-radius: 50%;\n",
              "      cursor: pointer;\n",
              "      display: none;\n",
              "      fill: #1967D2;\n",
              "      height: 32px;\n",
              "      padding: 0 0 0 0;\n",
              "      width: 32px;\n",
              "    }\n",
              "\n",
              "    .colab-df-convert:hover {\n",
              "      background-color: #E2EBFA;\n",
              "      box-shadow: 0px 1px 2px rgba(60, 64, 67, 0.3), 0px 1px 3px 1px rgba(60, 64, 67, 0.15);\n",
              "      fill: #174EA6;\n",
              "    }\n",
              "\n",
              "    [theme=dark] .colab-df-convert {\n",
              "      background-color: #3B4455;\n",
              "      fill: #D2E3FC;\n",
              "    }\n",
              "\n",
              "    [theme=dark] .colab-df-convert:hover {\n",
              "      background-color: #434B5C;\n",
              "      box-shadow: 0px 1px 3px 1px rgba(0, 0, 0, 0.15);\n",
              "      filter: drop-shadow(0px 1px 2px rgba(0, 0, 0, 0.3));\n",
              "      fill: #FFFFFF;\n",
              "    }\n",
              "  </style>\n",
              "\n",
              "      <script>\n",
              "        const buttonEl =\n",
              "          document.querySelector('#df-6d6d436a-00c2-4db4-b984-85e0a4a03f61 button.colab-df-convert');\n",
              "        buttonEl.style.display =\n",
              "          google.colab.kernel.accessAllowed ? 'block' : 'none';\n",
              "\n",
              "        async function convertToInteractive(key) {\n",
              "          const element = document.querySelector('#df-6d6d436a-00c2-4db4-b984-85e0a4a03f61');\n",
              "          const dataTable =\n",
              "            await google.colab.kernel.invokeFunction('convertToInteractive',\n",
              "                                                     [key], {});\n",
              "          if (!dataTable) return;\n",
              "\n",
              "          const docLinkHtml = 'Like what you see? Visit the ' +\n",
              "            '<a target=\"_blank\" href=https://colab.research.google.com/notebooks/data_table.ipynb>data table notebook</a>'\n",
              "            + ' to learn more about interactive tables.';\n",
              "          element.innerHTML = '';\n",
              "          dataTable['output_type'] = 'display_data';\n",
              "          await google.colab.output.renderOutput(dataTable, element);\n",
              "          const docLink = document.createElement('div');\n",
              "          docLink.innerHTML = docLinkHtml;\n",
              "          element.appendChild(docLink);\n",
              "        }\n",
              "      </script>\n",
              "    </div>\n",
              "  </div>\n",
              "  "
            ]
          },
          "metadata": {},
          "execution_count": 26
        }
      ]
    },
    {
      "cell_type": "code",
      "source": [
        "model = RandomForestClassifier(n_estimators=200, min_samples_split=50)"
      ],
      "metadata": {
        "id": "BkoA8zJ3PRo4"
      },
      "execution_count": 27,
      "outputs": []
    },
    {
      "cell_type": "code",
      "source": [
        "def predict(train, test, predictors, model):\n",
        "    model.fit(train[predictors], train[\"Target\"])\n",
        "    preds = model.predict_proba(test[predictors])[:,1]\n",
        "    preds[preds >=.6] = 1\n",
        "    preds[preds <.6] = 0\n",
        "    preds = pd.Series(preds, index=test.index, name=\"Predictions\")\n",
        "    combined = pd.concat([test[\"Target\"], preds], axis=1)\n",
        "    return combined"
      ],
      "metadata": {
        "id": "ZU0Gh-yJPY2I"
      },
      "execution_count": 28,
      "outputs": []
    },
    {
      "cell_type": "code",
      "source": [
        "predictions = backtest(sp500, model, new_predictors)"
      ],
      "metadata": {
        "id": "9pOyft9gPcLJ"
      },
      "execution_count": 29,
      "outputs": []
    },
    {
      "cell_type": "code",
      "source": [
        "predictions[\"Target\"].value_counts() / predictions.shape[0]"
      ],
      "metadata": {
        "colab": {
          "base_uri": "https://localhost:8080/"
        },
        "id": "RV953S6vP1-F",
        "outputId": "05342814-010a-484c-c605-7e4d0a6ea296"
      },
      "execution_count": 33,
      "outputs": [
        {
          "output_type": "execute_result",
          "data": {
            "text/plain": [
              "1    0.543799\n",
              "0    0.456201\n",
              "Name: Target, dtype: float64"
            ]
          },
          "metadata": {},
          "execution_count": 33
        }
      ]
    },
    {
      "cell_type": "code",
      "source": [
        "predictions"
      ],
      "metadata": {
        "colab": {
          "base_uri": "https://localhost:8080/",
          "height": 455
        },
        "id": "QRB1D8WXQZi7",
        "outputId": "3ea973f1-4cfc-4bf7-e1f9-a7de1d9f2cc2"
      },
      "execution_count": 34,
      "outputs": [
        {
          "output_type": "execute_result",
          "data": {
            "text/plain": [
              "                           Target  Predictions\n",
              "Date                                          \n",
              "2003-11-14 00:00:00-05:00       0          0.0\n",
              "2003-11-17 00:00:00-05:00       0          1.0\n",
              "2003-11-18 00:00:00-05:00       1          1.0\n",
              "2003-11-19 00:00:00-05:00       0          1.0\n",
              "2003-11-20 00:00:00-05:00       1          1.0\n",
              "...                           ...          ...\n",
              "2023-04-10 00:00:00-04:00       0          0.0\n",
              "2023-04-11 00:00:00-04:00       0          0.0\n",
              "2023-04-12 00:00:00-04:00       1          1.0\n",
              "2023-04-13 00:00:00-04:00       0          0.0\n",
              "2023-04-14 00:00:00-04:00       0          0.0\n",
              "\n",
              "[4886 rows x 2 columns]"
            ],
            "text/html": [
              "\n",
              "  <div id=\"df-ded159a3-fcdd-4dbd-b076-cb31a3f45390\">\n",
              "    <div class=\"colab-df-container\">\n",
              "      <div>\n",
              "<style scoped>\n",
              "    .dataframe tbody tr th:only-of-type {\n",
              "        vertical-align: middle;\n",
              "    }\n",
              "\n",
              "    .dataframe tbody tr th {\n",
              "        vertical-align: top;\n",
              "    }\n",
              "\n",
              "    .dataframe thead th {\n",
              "        text-align: right;\n",
              "    }\n",
              "</style>\n",
              "<table border=\"1\" class=\"dataframe\">\n",
              "  <thead>\n",
              "    <tr style=\"text-align: right;\">\n",
              "      <th></th>\n",
              "      <th>Target</th>\n",
              "      <th>Predictions</th>\n",
              "    </tr>\n",
              "    <tr>\n",
              "      <th>Date</th>\n",
              "      <th></th>\n",
              "      <th></th>\n",
              "    </tr>\n",
              "  </thead>\n",
              "  <tbody>\n",
              "    <tr>\n",
              "      <th>2003-11-14 00:00:00-05:00</th>\n",
              "      <td>0</td>\n",
              "      <td>0.0</td>\n",
              "    </tr>\n",
              "    <tr>\n",
              "      <th>2003-11-17 00:00:00-05:00</th>\n",
              "      <td>0</td>\n",
              "      <td>1.0</td>\n",
              "    </tr>\n",
              "    <tr>\n",
              "      <th>2003-11-18 00:00:00-05:00</th>\n",
              "      <td>1</td>\n",
              "      <td>1.0</td>\n",
              "    </tr>\n",
              "    <tr>\n",
              "      <th>2003-11-19 00:00:00-05:00</th>\n",
              "      <td>0</td>\n",
              "      <td>1.0</td>\n",
              "    </tr>\n",
              "    <tr>\n",
              "      <th>2003-11-20 00:00:00-05:00</th>\n",
              "      <td>1</td>\n",
              "      <td>1.0</td>\n",
              "    </tr>\n",
              "    <tr>\n",
              "      <th>...</th>\n",
              "      <td>...</td>\n",
              "      <td>...</td>\n",
              "    </tr>\n",
              "    <tr>\n",
              "      <th>2023-04-10 00:00:00-04:00</th>\n",
              "      <td>0</td>\n",
              "      <td>0.0</td>\n",
              "    </tr>\n",
              "    <tr>\n",
              "      <th>2023-04-11 00:00:00-04:00</th>\n",
              "      <td>0</td>\n",
              "      <td>0.0</td>\n",
              "    </tr>\n",
              "    <tr>\n",
              "      <th>2023-04-12 00:00:00-04:00</th>\n",
              "      <td>1</td>\n",
              "      <td>1.0</td>\n",
              "    </tr>\n",
              "    <tr>\n",
              "      <th>2023-04-13 00:00:00-04:00</th>\n",
              "      <td>0</td>\n",
              "      <td>0.0</td>\n",
              "    </tr>\n",
              "    <tr>\n",
              "      <th>2023-04-14 00:00:00-04:00</th>\n",
              "      <td>0</td>\n",
              "      <td>0.0</td>\n",
              "    </tr>\n",
              "  </tbody>\n",
              "</table>\n",
              "<p>4886 rows × 2 columns</p>\n",
              "</div>\n",
              "      <button class=\"colab-df-convert\" onclick=\"convertToInteractive('df-ded159a3-fcdd-4dbd-b076-cb31a3f45390')\"\n",
              "              title=\"Convert this dataframe to an interactive table.\"\n",
              "              style=\"display:none;\">\n",
              "        \n",
              "  <svg xmlns=\"http://www.w3.org/2000/svg\" height=\"24px\"viewBox=\"0 0 24 24\"\n",
              "       width=\"24px\">\n",
              "    <path d=\"M0 0h24v24H0V0z\" fill=\"none\"/>\n",
              "    <path d=\"M18.56 5.44l.94 2.06.94-2.06 2.06-.94-2.06-.94-.94-2.06-.94 2.06-2.06.94zm-11 1L8.5 8.5l.94-2.06 2.06-.94-2.06-.94L8.5 2.5l-.94 2.06-2.06.94zm10 10l.94 2.06.94-2.06 2.06-.94-2.06-.94-.94-2.06-.94 2.06-2.06.94z\"/><path d=\"M17.41 7.96l-1.37-1.37c-.4-.4-.92-.59-1.43-.59-.52 0-1.04.2-1.43.59L10.3 9.45l-7.72 7.72c-.78.78-.78 2.05 0 2.83L4 21.41c.39.39.9.59 1.41.59.51 0 1.02-.2 1.41-.59l7.78-7.78 2.81-2.81c.8-.78.8-2.07 0-2.86zM5.41 20L4 18.59l7.72-7.72 1.47 1.35L5.41 20z\"/>\n",
              "  </svg>\n",
              "      </button>\n",
              "      \n",
              "  <style>\n",
              "    .colab-df-container {\n",
              "      display:flex;\n",
              "      flex-wrap:wrap;\n",
              "      gap: 12px;\n",
              "    }\n",
              "\n",
              "    .colab-df-convert {\n",
              "      background-color: #E8F0FE;\n",
              "      border: none;\n",
              "      border-radius: 50%;\n",
              "      cursor: pointer;\n",
              "      display: none;\n",
              "      fill: #1967D2;\n",
              "      height: 32px;\n",
              "      padding: 0 0 0 0;\n",
              "      width: 32px;\n",
              "    }\n",
              "\n",
              "    .colab-df-convert:hover {\n",
              "      background-color: #E2EBFA;\n",
              "      box-shadow: 0px 1px 2px rgba(60, 64, 67, 0.3), 0px 1px 3px 1px rgba(60, 64, 67, 0.15);\n",
              "      fill: #174EA6;\n",
              "    }\n",
              "\n",
              "    [theme=dark] .colab-df-convert {\n",
              "      background-color: #3B4455;\n",
              "      fill: #D2E3FC;\n",
              "    }\n",
              "\n",
              "    [theme=dark] .colab-df-convert:hover {\n",
              "      background-color: #434B5C;\n",
              "      box-shadow: 0px 1px 3px 1px rgba(0, 0, 0, 0.15);\n",
              "      filter: drop-shadow(0px 1px 2px rgba(0, 0, 0, 0.3));\n",
              "      fill: #FFFFFF;\n",
              "    }\n",
              "  </style>\n",
              "\n",
              "      <script>\n",
              "        const buttonEl =\n",
              "          document.querySelector('#df-ded159a3-fcdd-4dbd-b076-cb31a3f45390 button.colab-df-convert');\n",
              "        buttonEl.style.display =\n",
              "          google.colab.kernel.accessAllowed ? 'block' : 'none';\n",
              "\n",
              "        async function convertToInteractive(key) {\n",
              "          const element = document.querySelector('#df-ded159a3-fcdd-4dbd-b076-cb31a3f45390');\n",
              "          const dataTable =\n",
              "            await google.colab.kernel.invokeFunction('convertToInteractive',\n",
              "                                                     [key], {});\n",
              "          if (!dataTable) return;\n",
              "\n",
              "          const docLinkHtml = 'Like what you see? Visit the ' +\n",
              "            '<a target=\"_blank\" href=https://colab.research.google.com/notebooks/data_table.ipynb>data table notebook</a>'\n",
              "            + ' to learn more about interactive tables.';\n",
              "          element.innerHTML = '';\n",
              "          dataTable['output_type'] = 'display_data';\n",
              "          await google.colab.output.renderOutput(dataTable, element);\n",
              "          const docLink = document.createElement('div');\n",
              "          docLink.innerHTML = docLinkHtml;\n",
              "          element.appendChild(docLink);\n",
              "        }\n",
              "      </script>\n",
              "    </div>\n",
              "  </div>\n",     //hello
              "  "
            ]
          },
          "metadata": {},
          "execution_count": 34
        }
      ]
    }
  ]
}
